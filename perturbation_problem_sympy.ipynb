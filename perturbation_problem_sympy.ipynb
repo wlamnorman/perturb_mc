{
 "cells": [
  {
   "cell_type": "code",
   "execution_count": 1,
   "metadata": {},
   "outputs": [],
   "source": [
    "# ruff: noqa\n",
    "import numpy as np\n",
    "import sympy\n",
    "from scipy.optimize import minimize\n",
    "\n",
    "\n",
    "def check_is_stochastic_matrix(\n",
    "    matrix: np.ndarray, check_has_absorption_states: bool = False\n",
    ") -> None:\n",
    "    if not np.all(matrix >= 0):\n",
    "        raise ValueError(\n",
    "            f\"The given matrix\\n{matrix}\\nis not a stochastic matrix as at least one entry is negative.\"\n",
    "        )\n",
    "\n",
    "    if not np.allclose(matrix.sum(axis=1), 1):\n",
    "        raise ValueError(\n",
    "            f\"The given matrix\\n{matrix}\\nis not a stochastic matrix as all rows probabilities does not sum to 1.\"\n",
    "        )\n",
    "\n",
    "    if not matrix.shape[0] == matrix.shape[1]:\n",
    "        raise ValueError(\n",
    "            f\"The given matrix\\n{matrix}\\nis not a stochastic matrix as it is not a square matrix.\"\n",
    "        )\n",
    "\n",
    "        # if check_has_absorption_states:\n",
    "        pass\n",
    "\n",
    "\n",
    "def generate_symbol(i: int, j: int) -> sympy.core.symbol.Symbol:\n",
    "    return sympy.symbols(f\"x{i}{j}\")\n",
    "\n",
    "\n",
    "def gen_symbolic_variant(\n",
    "    transition_matrix: np.ndarray[float, int],\n",
    ") -> np.ndarray[np.float64 | sympy.core.symbol.Symbol]:\n",
    "    T = transition_matrix\n",
    "    P = np.empty_like(T, dtype=object)\n",
    "    for i in range(T.shape[0]):\n",
    "        for j in range(T.shape[1]):\n",
    "            if 0 < T[i, j] < 1:\n",
    "                P[i, j] = generate_symbol(i, j)\n",
    "            else:\n",
    "                P[i, j] = T[i, j]\n",
    "    return P\n",
    "\n",
    "\n",
    "def _derive_stochastic_matrix_conds(\n",
    "    symbolic_transition_matrix: np.ndarray[np.float64 | sympy.core.symbol.Symbol],\n",
    ") -> list[sympy.core.relational.Equality | sympy.logic.boolalg.BooleanTrue]:\n",
    "    equations = []\n",
    "    for row in symbolic_transition_matrix:\n",
    "        if any(isinstance(element, sympy.Symbol) for element in row):\n",
    "            row_sum_eq = sympy.Eq(sum(row), 1)\n",
    "            equations.append(row_sum_eq)\n",
    "    return equations\n",
    "\n",
    "\n",
    "def _derive_stationary_dist_eqs(\n",
    "    symbolic_absorption_probs: np.ndarray[object], absorption_probs: np.ndarray\n",
    ") -> list[sympy.core.relational.Equality | sympy.logic.boolalg.BooleanTrue]:\n",
    "    return [sympy.Eq(lhs, rhs) for lhs, rhs in zip(symbolic_absorption_probs, absorption_probs)]"
   ]
  },
  {
   "cell_type": "code",
   "execution_count": 2,
   "metadata": {},
   "outputs": [
    {
     "data": {
      "text/plain": [
       "{x01: 0.1*(10.0*x24 - 3.0)/(x13*x24),\n",
       " x02: 0.1*(10.0*x13*x24 - 10.0*x24 + 3.0)/(x13*x24),\n",
       " x12: 1.0 - x13,\n",
       " x23: 1.0 - x24}"
      ]
     },
     "execution_count": 2,
     "metadata": {},
     "output_type": "execute_result"
    }
   ],
   "source": [
    "### INPUT ###\n",
    "T = np.asarray(\n",
    "    [\n",
    "        [0, 0.5, 0.5, 0, 0],\n",
    "        [0, 0, 0.5, 0.5, 0],\n",
    "        [0, 0, 0, 0.5, 0.5],\n",
    "        [0, 0, 0, 1, 0],\n",
    "        [0, 0, 0, 0, 1],\n",
    "    ]\n",
    ")\n",
    "x0 = [1, 0, 0, 0, 0]\n",
    "absorption_probs = np.array([0, 0, 0, 0.7, 0.3])\n",
    "\n",
    "# derived\n",
    "N = T.shape[0]\n",
    "###########################\n",
    "check_is_stochastic_matrix(T)\n",
    "P = gen_symbolic_variant(T)\n",
    "\n",
    "# replace symbols in P by expressions in terms of free variables\n",
    "# delta = sympy.Matrix(T) - P\n",
    "# Frobenius norm of dela\n",
    "\n",
    "symbolc_absorption_probs = x0 @ np.linalg.matrix_power(P, N)\n",
    "\n",
    "stationary_dist_eqs = _derive_stationary_dist_eqs(symbolc_absorption_probs, absorption_probs)\n",
    "stochastic_matrix_conds = _derive_stochastic_matrix_conds(P)[\n",
    "    :-1\n",
    "]  # all but one to avoid over-constraining\n",
    "\n",
    "symb_solutions = sympy.solve(stationary_dist_eqs + stochastic_matrix_conds, dict=True)\n",
    "assert len(symb_solutions) == 1, \"Multiple solutions\"\n",
    "symb_solutions = symb_solutions[0]\n",
    "symb_solutions"
   ]
  },
  {
   "cell_type": "code",
   "execution_count": 3,
   "metadata": {},
   "outputs": [
    {
     "data": {
      "text/plain": [
       "{x13, x24}"
      ]
     },
     "execution_count": 3,
     "metadata": {},
     "output_type": "execute_result"
    }
   ],
   "source": [
    "from typing import Any\n",
    "\n",
    "\n",
    "def _derive_free_variables(\n",
    "    symb_transition_matrix: np.ndarray[np.float64 | sympy.core.symbol.Symbol],\n",
    "    symb_solutions: dict[sympy.core.symbol.Symbol, Any],\n",
    ") -> set[sympy.core.symbol.Symbol]:\n",
    "    all_variables = set().union(*(sympy.Matrix(row).free_symbols for row in symb_transition_matrix))\n",
    "    dependent_variables = set(symb_solutions.keys())\n",
    "    free_variables = all_variables - dependent_variables\n",
    "    return free_variables\n",
    "\n",
    "\n",
    "free_variables = _derive_free_variables(P, symb_solutions)\n",
    "free_variables"
   ]
  },
  {
   "cell_type": "code",
   "execution_count": 4,
   "metadata": {},
   "outputs": [
    {
     "data": {
      "text/plain": [
       "{x01: <function _lambdifygenerated(x13, x24)>,\n",
       " x02: <function _lambdifygenerated(x13, x24)>,\n",
       " x12: <function _lambdifygenerated(x13)>,\n",
       " x23: <function _lambdifygenerated(x24)>}"
      ]
     },
     "execution_count": 4,
     "metadata": {},
     "output_type": "execute_result"
    }
   ],
   "source": [
    "from typing import Callable\n",
    "\n",
    "\n",
    "def _lambdify_dep_vars(symb_solutions) -> dict[sympy.core.symbol.Symbol, Callable[..., float]]:\n",
    "    dep_var = {}\n",
    "    for var, expr in symb_solutions.items():\n",
    "        args = sorted(expr.free_symbols, key=lambda s: s.name)\n",
    "        dep_var[var] = sympy.lambdify(args, expr, modules=\"numpy\")\n",
    "    return dep_var\n",
    "\n",
    "\n",
    "lamdified_dep_vars = _lambdify_dep_vars(symb_solutions)\n",
    "lamdified_dep_vars"
   ]
  },
  {
   "cell_type": "code",
   "execution_count": 5,
   "metadata": {},
   "outputs": [
    {
     "data": {
      "text/plain": [
       "2"
      ]
     },
     "execution_count": 5,
     "metadata": {},
     "output_type": "execute_result"
    }
   ],
   "source": [
    "def _derive_free_var_init_values(\n",
    "    free_variables: set[sympy.core.symbol.Symbol],\n",
    "    T: np.ndarray[float],\n",
    "    P: np.ndarray[np.float64 | sympy.core.symbol.Symbol],\n",
    ") -> dict[sympy.core.symbol.Symbol, float]:\n",
    "    assert T.shape == P.shape\n",
    "\n",
    "    free_var_value_mapping = {}\n",
    "    for i in range(T.shape[0]):\n",
    "        for j in range(T.shape[1]):\n",
    "            if isinstance(P[i, j], sympy.Symbol) and P[i, j] in free_variables:\n",
    "                free_var_value_mapping[P[i, j]] = T[i, j]\n",
    "\n",
    "    return free_var_value_mapping\n",
    "\n",
    "\n",
    "free_var_value_mapping = _derive_free_var_init_values(free_variables, T, P)\n",
    "free_var_value_mapping\n",
    "\n",
    "\n",
    "len(free_var_value_mapping)"
   ]
  },
  {
   "cell_type": "code",
   "execution_count": 6,
   "metadata": {},
   "outputs": [
    {
     "data": {
      "text/plain": [
       "array([[0. , 0.8, 0.2, 0. , 0. ],\n",
       "       [0. , 0. , 0.5, 0.5, 0. ],\n",
       "       [0. , 0. , 0. , 0.5, 0.5],\n",
       "       [0. , 0. , 0. , 1. , 0. ],\n",
       "       [0. , 0. , 0. , 0. , 1. ]])"
      ]
     },
     "execution_count": 6,
     "metadata": {},
     "output_type": "execute_result"
    }
   ],
   "source": [
    "def _derive_lambda_arg_names(lambda_func: Callable) -> tuple[str, ...]:\n",
    "    return lambda_func.__code__.co_varnames\n",
    "\n",
    "\n",
    "def _derive_lambda_arg_values(\n",
    "    free_var_value_mapping, arg_names: tuple[str, ...]\n",
    ") -> tuple[float, ...]:\n",
    "    return tuple((free_var_value_mapping[sympy.Symbol(var)] for var in arg_names))\n",
    "\n",
    "\n",
    "def evaluate_symbolic_matrix(\n",
    "    symbolic_transition_matrix: np.ndarray[object],\n",
    "    lamdified_dep_vars: dict[sympy.core.symbol.Symbol, Callable[..., float]],\n",
    "    free_var_value_mapping: dict[sympy.core.symbol.Symbol, float],\n",
    "):\n",
    "    evaluated_matrix = np.zeros_like(symbolic_transition_matrix, dtype=float)\n",
    "\n",
    "    for i in range(symbolic_transition_matrix.shape[0]):\n",
    "        for j in range(symbolic_transition_matrix.shape[1]):\n",
    "            element: np.float64 | sympy.core.symbol.Symbol = symbolic_transition_matrix[i, j]\n",
    "\n",
    "            if element in lamdified_dep_vars:\n",
    "                assert isinstance(element, sympy.core.symbol.Symbol)\n",
    "                func = lamdified_dep_vars[element]\n",
    "                arg_names = _derive_lambda_arg_names(func)\n",
    "                args = _derive_lambda_arg_values(free_var_value_mapping, arg_names)\n",
    "                evaluated_matrix[i, j] = func(*args)\n",
    "            elif element in free_var_value_mapping:\n",
    "                assert isinstance(element, sympy.core.symbol.Symbol)\n",
    "                evaluated_matrix[i, j] = free_var_value_mapping[element]\n",
    "            else:\n",
    "                evaluated_matrix[i, j] = element if isinstance(element, (int, float)) else 0\n",
    "\n",
    "    return evaluated_matrix\n",
    "\n",
    "\n",
    "P_evaluated = evaluate_symbolic_matrix(P, lamdified_dep_vars, free_var_value_mapping)\n",
    "P_evaluated"
   ]
  },
  {
   "cell_type": "code",
   "execution_count": 7,
   "metadata": {},
   "outputs": [
    {
     "data": {
      "text/plain": [
       "array([[0.0, x01, x02, 0.0, 0.0],\n",
       "       [0.0, 0.0, x12, x13, 0.0],\n",
       "       [0.0, 0.0, 0.0, x23, x24],\n",
       "       [0.0, 0.0, 0.0, 1.0, 0.0],\n",
       "       [0.0, 0.0, 0.0, 0.0, 1.0]], dtype=object)"
      ]
     },
     "execution_count": 7,
     "metadata": {},
     "output_type": "execute_result"
    }
   ],
   "source": [
    "P"
   ]
  },
  {
   "cell_type": "code",
   "execution_count": 8,
   "metadata": {},
   "outputs": [
    {
     "data": {
      "text/plain": [
       "array([[0.        , 0.52572715, 0.47427285, 0.        , 0.        ],\n",
       "       [0.        , 0.        , 0.47427264, 0.52572736, 0.        ],\n",
       "       [0.        , 0.        , 0.        , 0.58541252, 0.41458748],\n",
       "       [0.        , 0.        , 0.        , 1.        , 0.        ],\n",
       "       [0.        , 0.        , 0.        , 0.        , 1.        ]])"
      ]
     },
     "execution_count": 8,
     "metadata": {},
     "output_type": "execute_result"
    }
   ],
   "source": [
    "def objective(\n",
    "    free_var_vals: np.ndarray,\n",
    "    free_var_value_mapping: dict,\n",
    "    symbolic_transition_matrix: np.ndarray,\n",
    "    lamdified_dep_vars: dict[sympy.Symbol, Callable[..., float]],\n",
    "    original_transition_matrix: np.ndarray,\n",
    ") -> float:\n",
    "    for i, var in enumerate(free_var_value_mapping.keys()):\n",
    "        free_var_value_mapping[var] = free_var_vals[i]\n",
    "\n",
    "    P_evaluated = evaluate_symbolic_matrix(\n",
    "        symbolic_transition_matrix, lamdified_dep_vars, free_var_value_mapping\n",
    "    )\n",
    "\n",
    "    frobenius_norm = np.linalg.norm(P_evaluated - original_transition_matrix, \"fro\")\n",
    "    return frobenius_norm\n",
    "\n",
    "\n",
    "initial_values = tuple(free_var_value_mapping.values())\n",
    "EPSILON = 10e-9\n",
    "bounds = [(0 + EPSILON, 1 - EPSILON) for _ in range(len(free_var_value_mapping))]\n",
    "result = minimize(\n",
    "    objective,\n",
    "    initial_values,\n",
    "    args=(free_var_value_mapping, P, lamdified_dep_vars, T),\n",
    "    bounds=bounds,\n",
    ")\n",
    "\n",
    "from copy import deepcopy\n",
    "\n",
    "free_var_value_mapping_optimal = deepcopy(free_var_value_mapping)\n",
    "for i, var in enumerate(free_var_value_mapping.keys()):\n",
    "    free_var_value_mapping_optimal[var] = result.x[i]\n",
    "\n",
    "perturbed_P = evaluate_symbolic_matrix(P, lamdified_dep_vars, free_var_value_mapping_optimal)\n",
    "\n",
    "# sanity check that the new transition matrix does indeed have the target absorption probabilities\n",
    "perturbed_P_abs_prob = x0 @ np.linalg.matrix_power(perturbed_P, 5)\n",
    "assert all(\n",
    "    np.isclose(x, y) for x, y in zip(perturbed_P_abs_prob, absorption_probs)\n",
    "), \"Resulting transition matrix does not have the target absorption probabilities\"\n",
    "\n",
    "\n",
    "perturbed_P"
   ]
  },
  {
   "cell_type": "code",
   "execution_count": 9,
   "metadata": {},
   "outputs": [
    {
     "data": {
      "text/plain": [
       "array([[0. , 0.5, 0.5, 0. , 0. ],\n",
       "       [0. , 0. , 0.5, 0.5, 0. ],\n",
       "       [0. , 0. , 0. , 0.5, 0.5],\n",
       "       [0. , 0. , 0. , 1. , 0. ],\n",
       "       [0. , 0. , 0. , 0. , 1. ]])"
      ]
     },
     "execution_count": 9,
     "metadata": {},
     "output_type": "execute_result"
    }
   ],
   "source": [
    "T"
   ]
  }
 ],
 "metadata": {
  "kernelspec": {
   "display_name": ".venv",
   "language": "python",
   "name": "python3"
  },
  "language_info": {
   "codemirror_mode": {
    "name": "ipython",
    "version": 3
   },
   "file_extension": ".py",
   "mimetype": "text/x-python",
   "name": "python",
   "nbconvert_exporter": "python",
   "pygments_lexer": "ipython3",
   "version": "3.11.1"
  }
 },
 "nbformat": 4,
 "nbformat_minor": 2
}
